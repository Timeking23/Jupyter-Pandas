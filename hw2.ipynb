{
  "cells": [
    {
      "cell_type": "markdown",
      "metadata": {
        "id": "view-in-github",
        "colab_type": "text"
      },
      "source": [
        "<a href=\"https://colab.research.google.com/github/Timeking23/Jupyter-Pandas/blob/main/hw2.ipynb\" target=\"_parent\"><img src=\"https://colab.research.google.com/assets/colab-badge.svg\" alt=\"Open In Colab\"/></a>"
      ]
    },
    {
      "cell_type": "markdown",
      "metadata": {
        "id": "VP1Fxm8meMHN"
      },
      "source": [
        "# Homework 2\n",
        "\n",
        "This homework is intended to give you experience with hypothesis testing, using random chance to establish an empirical distribution, theoretical probability, and using Bayesian inference.\n",
        "\n",
        "When you have completed the assignment, download only the ipynb file and submit it to Ilearn.\n",
        "\n",
        "**This HW is due Friday, February 21 at 11:59 PM.**"
      ]
    },
    {
      "cell_type": "markdown",
      "metadata": {
        "id": "9ZOYDjT_eMHP"
      },
      "source": [
        "## Collaboration Policy\n",
        "\n",
        "Data science is a collaborative activity. While you may talk with others about the labs, we ask that you **write your solutions individually**. If you do discuss the assignments with others please **include their names** below. (That's a good way to learn your classmates' names.)"
      ]
    },
    {
      "cell_type": "code",
      "execution_count": null,
      "metadata": {
        "id": "UbympTJCfqkW"
      },
      "outputs": [],
      "source": [
        "import numpy as np\n",
        "import pandas as pd\n",
        "import random\n",
        "import matplotlib.pyplot as plt"
      ]
    },
    {
      "cell_type": "markdown",
      "source": [
        "## Install Packages\n",
        "\n",
        "Even if you have installed all packages needed, RUN THIS CELL! On google colab, it downloads the test files, and whether on colab or to give you automated feedback!\n",
        "\n",
        "If you complete the homework in a local IDE, you will need to download the files hw2.ok and ok_tests.zip. The file links are printed below the next cell.  \n",
        "\n",
        "Before packages can be imported in python they must be installed. In the next cell the packages that this homework requires are installed. After the installation, you may need to restart the environment to ensure that the imports function. Once they are installed, the restart is not necessary."
      ],
      "metadata": {
        "id": "osG-UfQeenLx"
      }
    },
    {
      "cell_type": "code",
      "source": [
        "from pathlib import Path\n",
        "import sys\n",
        "import gdown\n",
        "\n",
        "ok_file = \"hw2.ok\"\n",
        "\n",
        "code_ok = \"15HYBnY2MplvV3Z0rz9wSJFug5nualvy6\"\n",
        "code_tests = \"1kwJZ2Vw5eJApS1Y-jYr3iQZ0d0koWY5i\"\n",
        "\n",
        "hw_ok_link = f\"https://drive.google.com/uc?id=\" + code_ok\n",
        "ok_tests_link = \"https://drive.google.com/uc?id=\" + code_tests\n",
        "\n",
        "# Download necessary files for autograding\n",
        "# This only works on google drive.\n",
        "if 'google.colab' in sys.modules:\n",
        "  import google.colab.output\n",
        "  gdown.download(hw_ok_link)\n",
        "  gdown.download(ok_tests_link)\n",
        "\n",
        "# If the ok_tests.zip file is present - decompress it\n",
        "file_path = Path(\"ok_tests.zip\")\n",
        "if file_path.exists():\n",
        "  !unzip -o ok_tests.zip\n",
        "\n",
        "# download necessary libraries\n",
        "pip_output = !pip3 install okpy numpy matplotlib pandas datascience\n",
        "\n",
        "# This makes any errors and output less horrible\n",
        "err_lines = [ln for ln in pip_output if 'error' in ln.lower()]\n",
        "\n",
        "# If this is google colab - make the output look nice\n",
        "if 'google.colab' in sys.modules:\n",
        "  google.colab.output.clear()\n",
        "\n",
        "if err_lines:\n",
        "  print(*err_lines, sep='\\n')\n",
        "else:\n",
        "  print('Libraries successfully installed')\n",
        "\n",
        "# Verify the necessary grader files are present\n",
        "file_path = Path(\"ok_tests\")\n",
        "if not file_path.exists():\n",
        "  print(\"No test cases found. Please download ok_tests.zip and unzip into this directory\")\n",
        "  print(\"The ok tests file is available at: \", \"https://drive.google.com/file/d/\"+code_tests+\"/view?usp=share_link\")\n",
        "\n",
        "file_path = Path(ok_file)\n",
        "if not file_path.exists():\n",
        "  print(\"No grader file found. Please download hwX.ok\")\n",
        "  print(\"ok file is available at: \", \"https://drive.google.com/file/d/\"+code_ok+\"/view?usp=share_link\")\n"
      ],
      "metadata": {
        "id": "ErbT-G0qekBa",
        "colab": {
          "base_uri": "https://localhost:8080/"
        },
        "outputId": "9433b98b-004f-4561-b303-5960e81b9cda"
      },
      "execution_count": null,
      "outputs": [
        {
          "output_type": "stream",
          "name": "stdout",
          "text": [
            "Libraries successfully installed\n"
          ]
        }
      ]
    },
    {
      "cell_type": "code",
      "source": [
        "from client.api.notebook import Notebook\n",
        "import matplotlib.pyplot as plt\n",
        "plt.style.use('fivethirtyeight')\n",
        "import numpy as np\n",
        "import pandas as pd\n",
        "\n",
        "ok = Notebook(ok_file)"
      ],
      "metadata": {
        "id": "_es2IHe2fHqe"
      },
      "execution_count": null,
      "outputs": []
    },
    {
      "cell_type": "markdown",
      "metadata": {
        "id": "5EZVGuFIfhCw"
      },
      "source": [
        "# Q1\n",
        "\n",
        "Thomas Bayes introduced the infamous Bayes rule. When Bayes would explain the rule, he often used a game to show the utility of his discovery.\n",
        "\n",
        "With his back turned, he would ask someone to mark a spot on a table. He would never look, but instead he would have people throw a ball and then they would tell him if the ball landed to the right of the mark or to the left. He would continue this for a number of rounds.\n",
        "\n",
        "Based on this alone, Bayes would work out the location of the mark on the table by the end of the game! We will do the exact same thing in code to further develop an understanding of Bayes rule.  \n",
        "\n",
        "## Q1a\n",
        "\n",
        "Fill in the get_position() function to return a random number with uniform distribution between 0 and 10.\n",
        "\n",
        "Fill in the to_the_right() function to return true if new_position is greater than the first_position."
      ]
    },
    {
      "cell_type": "code",
      "execution_count": null,
      "metadata": {
        "id": "HNX3dU6uVuFI"
      },
      "outputs": [],
      "source": [
        "def get_position():\n",
        "  return ...\n",
        "\n",
        "def to_the_right(first_position, new_position):\n",
        "  return ...\n",
        "\n",
        "random.seed(42)\n",
        "first_position = get_position()"
      ]
    },
    {
      "cell_type": "code",
      "execution_count": null,
      "metadata": {
        "id": "AzNjLnCxsavJ"
      },
      "outputs": [],
      "source": [
        "ok.grade(\"q1a\");"
      ]
    },
    {
      "cell_type": "markdown",
      "metadata": {
        "id": "3wLRiUMvr-cN"
      },
      "source": [
        "## Q1b\n",
        "\n",
        "Create a column in candidate_positions called 'p_true_given_pos'. In this column, store the probability that a ball is thrown with uniform probability at a wall and strikes to the right of the position if the index is understood to be the position. ie. row zero is position zero and should have probability equal to 1."
      ]
    },
    {
      "cell_type": "code",
      "execution_count": null,
      "metadata": {
        "id": "pIx9jUKtgpdZ"
      },
      "outputs": [],
      "source": [
        "def get_bayes_df():\n",
        "  candidate_positions = pd.DataFrame([1/10 for num in range(1,11)],columns=['probability'])\n",
        "  candidate_positions['p_true_given_pos'] = ...\n",
        "  return candidate_positions\n",
        "\n",
        "\n",
        "candidate_positions = get_bayes_df()"
      ]
    },
    {
      "cell_type": "code",
      "execution_count": null,
      "metadata": {
        "id": "apAG0bsSgNqW"
      },
      "outputs": [],
      "source": [
        "ok.grade(\"q1b\");"
      ]
    },
    {
      "cell_type": "markdown",
      "metadata": {
        "id": "gYWfF1h4t4yX"
      },
      "source": [
        "## Q1c\n",
        "\n",
        "Update the belief (called probability) using Bayes rule.\n",
        "\n",
        "First, you will need to compute the expected probability of a ball striking the wall to the right of a location given the current probabilities for each location. This should be stored in expected_p_true. The complement should be stored in expected_p_false.\n",
        "\n",
        "Next, update the probability associated with each position with the new probabilities based on whether each new observation is to the right (true) or to the left (false) of the first position using Bayes rule. Below are a few restatements of Bayes rule that may be helpful. I recommend using vectorized math by using the columns as operands to do this concisely.\n",
        "\n",
        "\n",
        "$P(A|B) = P(A) \\cdot \\frac{P(B|A)}{P(B)}$\n",
        "\n",
        "$posterior = prior \\cdot \\frac{P(observation|prior)}{P(observation)}$\n",
        "\n",
        "$P_{new} = P_{current} \\cdot \\frac{P(observation|P_{current})}{P(observation)}$\n",
        "\n",
        "Experiment with the number of iterations (by passing in a keyword argument to Bayes_game) used to find a number that allows the probability to converge. Update, required_iterations with the value that you find sufficient for the probabilities to converge and enable correct inference.\n",
        "\n"
      ]
    },
    {
      "cell_type": "code",
      "execution_count": null,
      "metadata": {
        "id": "XfD7h76bh91U"
      },
      "outputs": [],
      "source": [
        "def Bayes_game(iterations=20, candidate_positions=candidate_positions):\n",
        "\n",
        "  successes = []\n",
        "  failures = []\n",
        "\n",
        "  for i in range(iterations):\n",
        "    # Do not use new_position in any of your code.\n",
        "    # It here is for transparency and display but should not be used in your calculations.\n",
        "    new_position = get_position()\n",
        "\n",
        "    expected_p_true = ...\n",
        "    expected_p_false = ...\n",
        "\n",
        "    if to_the_right(first_position, new_position):\n",
        "      candidate_positions['probability'] = ...\n",
        "      successes.append(new_position)\n",
        "\n",
        "    else:\n",
        "      candidate_positions['probability'] = ...\n",
        "      failures.append(new_position)\n",
        "\n",
        "  return candidate_positions, successes, failures\n",
        "\n",
        "random.seed(35)\n",
        "candidate_positions, successes, failures = Bayes_game()\n",
        "\n",
        "required_iterations = ..."
      ]
    },
    {
      "cell_type": "code",
      "execution_count": null,
      "metadata": {
        "id": "i9UINwSYlf1t"
      },
      "outputs": [],
      "source": [
        "candidate_positions['probability'].plot(kind='bar')\n",
        "candidate_positions"
      ]
    },
    {
      "cell_type": "code",
      "execution_count": null,
      "metadata": {
        "id": "NfchtuTDnfz2"
      },
      "outputs": [],
      "source": [
        "# function to alternate background color\n",
        "def alt_bands(ax=None, highlight = None):\n",
        "    ax = ax or plt.gca()\n",
        "    ax.set_xlim(0, 11)\n",
        "    x_left, x_right = ax.get_xlim()\n",
        "    locs = ax.get_xticks()\n",
        "    count = 0\n",
        "    for loc1, loc2 in zip(locs[::1], np.concatenate((locs, [x_right]))[1::1]):\n",
        "        if count == highlight:\n",
        "          ax.axvspan(loc1, loc1+1, facecolor='yellow', alpha=0.2)\n",
        "        else:\n",
        "          ax.axvspan(loc1, loc1+1, facecolor='gray', alpha=0.2)\n",
        "        count+= 1\n",
        "    ax.set_xlim(0, 11)\n",
        "\n",
        "\n",
        "plt.scatter(successes, range(len(successes)))\n",
        "plt.scatter(failures, range(len(failures)))\n",
        "alt_bands(plt.gca(), highlight=3)\n",
        "plt.legend((\"To the Right\", \"To the left\"))"
      ]
    },
    {
      "cell_type": "markdown",
      "metadata": {
        "id": "-PzCIOIH3N6O"
      },
      "source": [
        "## Q1d\n",
        "\n",
        "When the results are displayed above for the simulation, the correct answer becomes clear. However, it's important to remember, your update of the probability did not have access to the location of the ball at any time. Rather, it is only told whether the ball hit to the left or to the right.\n",
        "\n",
        "In your own words, provide an explanation for the intuition captured in Bayes rule for updating probabilities in Bayes game. Why does this work?\n",
        "\n",
        "Answer:"
      ]
    },
    {
      "cell_type": "markdown",
      "metadata": {
        "id": "XkeFT3sg7hbg"
      },
      "source": [
        "# Q2\n",
        "\n",
        "Monte carlo simulation is a method of using random occurence to estimate outcomes.\n",
        "\n",
        "## Q2a\n",
        "\n",
        "Use list comprehension to generate an array of random values with length equal to trial and distributed between -0.5 and 0.5. This will be done twice to estimate x values and y values that are inside of a 1x1 square centered at (0,0).\n",
        "\n",
        "Next, decide if each x y pair stored as `(guesses_x[0], guesses_y[0])` is within a circle of radius 0.5 which is centered at zero. This can be done finding the distance of each pair from zero and comparing this to the radius. Perform these operations using vectorized operations.\n",
        "\n",
        "Finally, plot the points using a scatter plot. The points within the circle and without must be different colors.\n",
        "\n",
        "Hint: combine guesses_x, guesses_y, and successes into a dataframe. Then use df.plot.scatter and use the c keyword argument to control the color."
      ]
    },
    {
      "cell_type": "code",
      "execution_count": null,
      "metadata": {
        "id": "reFmuKCe7svq"
      },
      "outputs": [],
      "source": [
        "trials = 100000\n",
        "random.seed(32)\n",
        "\n",
        "guesses_x = ...\n",
        "guesses_y = ...\n",
        "successes = ...\n",
        "\n",
        "print(np.sum(successes)/(trials*0.5**2))\n",
        "\n",
        "# Plotting\n",
        "..."
      ]
    },
    {
      "cell_type": "code",
      "source": [
        "ok.grade(\"q2a\");"
      ],
      "metadata": {
        "id": "UrJIgy0BrlLu"
      },
      "execution_count": null,
      "outputs": []
    },
    {
      "cell_type": "markdown",
      "metadata": {
        "id": "lQeqqWSZBJoU"
      },
      "source": [
        "Notice, the probability of a random location being within a certain distance of a point is a function of pi! Hmm... I wonder if this has anythign to do with the $\\pi$ in the normal distribution formula?\n",
        "\n",
        "$f(x)=\\frac{1}{\\sigma\\sqrt{2\\pi}}e^{[-\\frac{(x-\\mu)^{2}}{2\\sigma^{2}}]}$\n",
        "\n",
        "## Q2b\n",
        "\n",
        "Explore the formulation of the normation distribution and how it relates to $\\pi$. Enter the prompt below in a large language model and consider its response.\n",
        "\n",
        "Prompt: `\n",
        "Explain the connection between the probability of a point lying within a distance of a location and the normal distribution. Point out how the probability changes with the square root of the distance. Specifically, connect these to the existence of pi in the normal distribution.`\n",
        "\n",
        "Is the $\\pi$ in the normal distribution connected to the simulation above? If so, how?\n",
        "\n",
        "Answer:\n"
      ]
    },
    {
      "cell_type": "markdown",
      "metadata": {
        "id": "RQezrSUmeMHU"
      },
      "source": [
        "\n",
        "## Question 3 ##\n",
        "\n",
        "Let $n$ be a positive integer and let $s$ be an integer such that $0 \\le s \\le n$. Consider a sample of size $n$ drawn at random with replacement from a population in which a proportion $p$ of the individuals are called successes.\n",
        "\n",
        "Provide a math expression for the probability that the number of successes in the sample is at most $s$.\n",
        "\n",
        "In probability classes this probability will typically be denoted $P(S \\le s)$ where $S$ denotes the random number of successes in the sample. Formal definitions of the pieces of this notation aren't particularly helpful for our purposes. Just read it as \"the probability that the number of successes is at most $s$.\"\n"
      ]
    },
    {
      "cell_type": "markdown",
      "metadata": {
        "id": "JqQWzFMieMHU"
      },
      "source": [
        "Hint:\n",
        "\n",
        "**Binomial distribution**\n",
        "\n",
        "$\\sum_{k=0}^s \\binom{n}{k}p^k(1-p)^{n-k}$"
      ]
    },
    {
      "cell_type": "markdown",
      "metadata": {
        "id": "B5QJrp3reMHU"
      },
      "source": [
        "### Q3a ###\n",
        "\n",
        "Please fill in the function `prob_at_most` which takes $n$, $p$, and $s$ and returns $P(S \\le s)$ as defined in Part **a**. If the inputs are invalid: for instance, if $p > 1$ OR $s > n$ then return 0.\"\n",
        "\n",
        "It might help to refer to the calculation in Question 1b.\n",
        "\n",
        "<!--\n",
        "BEGIN QUESTION\n",
        "name: q2b\n",
        "manual: false\n",
        "points: 1\n",
        "-->"
      ]
    },
    {
      "cell_type": "code",
      "execution_count": null,
      "metadata": {
        "id": "F8mRv5FJeMHU"
      },
      "outputs": [],
      "source": [
        "def prob_at_most(n, p, s):\n",
        "    \"\"\"\n",
        "    returns the probability of S <= s\n",
        "    Input n: sample size; p : proportion; s: number of successes at most\"\"\"\n",
        "    ..."
      ]
    },
    {
      "cell_type": "code",
      "execution_count": null,
      "metadata": {
        "id": "sLyy3IHYeMHU"
      },
      "outputs": [],
      "source": [
        "ok.grade(\"q3a\");"
      ]
    },
    {
      "cell_type": "markdown",
      "metadata": {
        "id": "UTaTsocleMHU"
      },
      "source": [
        "## Q3b\n",
        "\n",
        "The sum of successes is a sample statistic. A similar probability can be developed by empirically discovering the distribution of the statistic given the number of trials.\n",
        "\n",
        "Empirically estimate the PDF through sampling (as done in the in-class exercise) and kernel density estimation. Use the returned PDF to estimate the probability that $P(S \\le s)$ given a sample size $n = 12$. Your function should appropriately integrate the PDF using scipy for any value of $s$.\n",
        "\n",
        "This process should look remarkably similar to the empirical distribution of the distribution of the statistical mean.\n"
      ]
    },
    {
      "cell_type": "code",
      "execution_count": null,
      "metadata": {
        "id": "6G_W9jaoeMHV"
      },
      "outputs": [],
      "source": [
        "empirical_pdf = ...\n",
        "\n",
        "def prob_at_most_empirical(s, pdf, n=12, p=0.3):\n",
        "    \"\"\"\n",
        "    returns the probability of S <= s\n",
        "    Input n is set to 12; p is set to 0.3; s: number of successes at most.\n",
        "    Explicitly uses the pdf of the statistical number of successes to estimate\n",
        "    the probability of less than or equal to the value s.\"\"\"\n",
        "    ..."
      ]
    },
    {
      "cell_type": "markdown",
      "metadata": {
        "id": "dZWvh5wTeMHV"
      },
      "source": [
        "### Q3c ###\n",
        "In an election, supporters of Candidate C are in a minority. Only 45% of the voters in the population favor the candidate.\n",
        "\n",
        "Suppose a survey organization takes a sample of 200 voters at random with replacement from this population. Use `prob_at_most` to write an expression that evaluates to the chance that a majority (more than half) of the sampled voters favor Candidate C.\n",
        "\n",
        "<!--\n",
        "BEGIN QUESTION\n",
        "name: q2c\n",
        "manual: false\n",
        "points: 1\n",
        "-->"
      ]
    },
    {
      "cell_type": "code",
      "execution_count": null,
      "metadata": {
        "id": "3bLZOpY8eMHV"
      },
      "outputs": [],
      "source": [
        "p_majority = ...\n",
        "p_majority"
      ]
    },
    {
      "cell_type": "code",
      "execution_count": null,
      "metadata": {
        "id": "lrOqt4bgeMHV"
      },
      "outputs": [],
      "source": [
        "ok.grade(\"q3c\");"
      ]
    },
    {
      "cell_type": "markdown",
      "metadata": {
        "id": "rezUCJiPeMHV"
      },
      "source": [
        "### Q3d ###\n",
        "Suppose each of five survey organizations takes a sample of voters at random with replacement from the population of voters in Part **c**, independently of the samples drawn by the other organizations.\n",
        "\n",
        "- Three of the organizations use a sample size of 200\n",
        "- One organization uses a sample size of 300\n",
        "- One organization uses a sample size of 400\n",
        "\n",
        "Write an expression that evaluates to the chance that in at least one of the five samples the majority of voters favor Candidate C. You can use any quantity or function defined earlier in this exercise.\n",
        "\n",
        "<!--\n",
        "BEGIN QUESTION\n",
        "name: q2d\n",
        "manual: false\n",
        "points: 2\n",
        "-->"
      ]
    },
    {
      "cell_type": "code",
      "execution_count": null,
      "metadata": {
        "id": "Dmbg0kFbeMHV"
      },
      "outputs": [],
      "source": [
        "prob_3d = ...\n",
        "prob_3d"
      ]
    },
    {
      "cell_type": "code",
      "execution_count": null,
      "metadata": {
        "id": "BDfkWnMmeMHV"
      },
      "outputs": [],
      "source": [
        "ok.grade(\"q3d\");"
      ]
    },
    {
      "cell_type": "markdown",
      "metadata": {
        "id": "ybGn621SeMHV"
      },
      "source": [
        "# Q4\n",
        "\n",
        "Hypothesis testing and Bias\n",
        "\n",
        "## Q4a\n",
        "\n",
        "In the course textbook, read section [11.1](https://inferentialthinking.com/chapters/11/1/Assessing_a_Model.html).\n",
        "\n",
        "This section is a wonderful explanation of hypothesis testing and a real world application. The code provided in the chapter uses special toolboxes built for that course. However, there's no need for those toolboxes. Recreate the entirety of their code here without using their specialized toolbox. Rather, use the standard tools which we have seen in class.\n",
        "\n",
        "Your code should recreate images as well as performing all operations. The images do not have to look indentical but must show the same information.\n",
        "\n",
        "Note: The content of this section is assigned due to its relevance to hypothesis testing and the impact of the application. It's inclusion is not an endorsement of any opinions that are offered by the authors of that section, and neither is this statement an indication of disagreement. Each student should come to their own conclusions regarding any opinion based claims in the reading."
      ]
    },
    {
      "cell_type": "code",
      "execution_count": null,
      "metadata": {
        "id": "lMNQ8YpQeMHV"
      },
      "outputs": [],
      "source": [
        "# input code here\n",
        "\n",
        "# feel free to add additional cells below."
      ]
    },
    {
      "cell_type": "markdown",
      "metadata": {
        "id": "wG8lp3iEeMHV"
      },
      "source": [
        "## Q4b\n",
        "\n",
        "Extend their results. The above stops after showing the number of black jurors on the panel seems improbable given the histogram. Here, you should also estimate the PDF with KDE and find the probability of having a sum of 8 or fewer jurors on the panel."
      ]
    },
    {
      "cell_type": "code",
      "execution_count": null,
      "metadata": {
        "id": "eIO0qBcXeMHV"
      },
      "outputs": [],
      "source": [
        "# input code here"
      ]
    },
    {
      "cell_type": "markdown",
      "metadata": {
        "id": "tjnSLFkDeMHV"
      },
      "source": [
        "# Q5\n",
        "\n",
        "## Q5a\n",
        "\n",
        "In the course textbook, read section [12.3](https://inferentialthinking.com/chapters/12/3/Deflategate.html).\n",
        "\n",
        "This section introduces the idea of comparing distinct groups as opposed to evaluating one group. It uses a type of hypothesis test based on permuting labels and evaluating the impact on the statistic. The idea is that if an assignment to one label or another is actually random, then reshuffling those labels shouldn't change anything.\n",
        "\n",
        "Rewrite the code from this section without the use of any specialized toolboxes. Compute the p value by obtaining the test statistic PDF through KDE and integrating appropriately.  \n",
        "\n",
        "Your code should recreate images as well as performing all operations. The images do not have to look indentical but must show the same information.\n",
        "\n",
        "\n",
        "Note: The content of this section is assigned due to its relevance to hypothesis testing and the impact of the application. It's inclusion is not an endorsement of any opinions that are offered by the authors of that section, and neither is this statement an indication of disagreement. Each student should come to their own conclusions regarding any opinion based claims in the reading."
      ]
    },
    {
      "cell_type": "code",
      "execution_count": null,
      "metadata": {
        "id": "cVqAIcgGeMHW"
      },
      "outputs": [],
      "source": [
        "# input code here\n",
        "\n",
        "# feel free to add additional cells below."
      ]
    },
    {
      "cell_type": "markdown",
      "metadata": {
        "id": "zn1lzE0weMHW"
      },
      "source": [
        "### Q5b\n",
        "\n",
        "Conduct a two sample ttest across the samples for each team's game balls using `ttest_ind` which is part of the scipy stats package.\n",
        "\n",
        "What is the null hypothesis of this test? Does the result support the conclusion from the p value in above?\n",
        "\n",
        "Answer:"
      ]
    },
    {
      "cell_type": "code",
      "execution_count": null,
      "metadata": {
        "id": "X8XfACu7eMHW"
      },
      "outputs": [],
      "source": [
        "# input code here\n",
        "\n",
        "# feel free to add additional cells below."
      ]
    }
  ],
  "metadata": {
    "colab": {
      "provenance": [],
      "include_colab_link": true
    },
    "kernelspec": {
      "display_name": "Python 3",
      "name": "python3"
    },
    "language_info": {
      "name": "python"
    }
  },
  "nbformat": 4,
  "nbformat_minor": 0
}